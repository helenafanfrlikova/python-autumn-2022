{
 "cells": [
  {
   "cell_type": "code",
   "execution_count": 17,
   "metadata": {},
   "outputs": [],
   "source": [
    "# ukol-11: Pošta\n",
    "# Česká pošta má stránku na webu, která radí, jak správně nadepsat zásilku. Uvádí i několik vzorů pro české i zahraniční zásilky.\n",
    "# V souboru posta.html nalezneš zdrojový kód této stránky v HTML (to je značkovací jazyk, ve kterém jsou napsané některé webové stránky, nebo části některých webových stránek.).\n",
    "\n",
    "# 1. Soubor si načti do proměnné tak, aby se celý jeho obsah nacházel jako jeden řetězec v proměnné. Můžeš využít metodu read() (doplň název souboru a název své proměnné):\n",
    "with open(\"posta.html\", encoding='utf-8') as vstup:\n",
    "    posta = vstup.read()"
   ]
  },
  {
   "cell_type": "code",
   "execution_count": 18,
   "metadata": {},
   "outputs": [],
   "source": [
    "# 2. Nahraď znaky odřádkování (zapisuje se jako '\\n') jednoduchou mezerou pomocí metody replace().\n",
    "posta_string = posta.replace(\"\\n\", \" \")"
   ]
  },
  {
   "cell_type": "code",
   "execution_count": 19,
   "metadata": {},
   "outputs": [],
   "source": [
    "# 3. Nahraď po sobě jdoucích víc mezer jedinou mezerou: Sestav regulární výraz, který označuje jednu nebo více mezer. Pak pomocí re.sub() nahraď takové sekvence jedinou mezerou. První parametr metody re.sub() je regulární výraz, který nahrazujeme, druhý parametr je řetězec, který nahrazujeme, a třetí parametr je řetězec, ve kterém nahrazujeme.\n",
    "import re\n",
    "regex_mezery = re.compile(r\" +\")\n",
    "jedna_mezera = regex_mezery.sub(\" \", posta_string)"
   ]
  },
  {
   "cell_type": "code",
   "execution_count": 20,
   "metadata": {},
   "outputs": [
    {
     "name": "stdout",
     "output_type": "stream",
     "text": [
      "['190 16 PRAHA 916', '378 08 DVORY NAD LUŽNICÍ', '190 16 PRAHA 916', '378 08 DVORY NAD LUŽNICÍ', '186 00 PRAHA 86                                                                 ', '118 00                                                                     PRAHA 011', '397 04 PÍSEK 4', '460 15                                                                     LIBEREC 15', '623 00 BRNO 23', '512 11 VYSOKÉ NAD                                                                     JIZEROU', '378 07 RAPŠACH', '130 00 PRAHA 3', '273 01 KAMENNÉ ŽEHROVICE', '513 01 SEMILY', '398 11 PROTIVÍN', '742 45 FULNEK', '948 01 Lučenec']\n"
     ]
    }
   ],
   "source": [
    "# 4. Najdi v datech všechna česká a slovenská města a jejich PSČ, která se nacházejí v ukázkových adresách. Mají format PSČ MĚSTO, kde PSČ se skládá ze tří číslic, mezery a dvou číslic, a MĚSTO se skládá z jednoho, dvou nebo tří slov oddělených mezerou, za kterými může ještě následovat číslo pošty.\n",
    "# Celkově je potřeba identifikovat 17 adres.\n",
    "# Pro práci s diakritikou dobře poslouží třeba rozsah [À-ž], který vybere všechny znaky, které jsou v tabulce níže označeny žlutě.\n",
    "\n",
    "regularni_vyraz = re.compile(r\"\\d{3} \\d{2} [\\w ]*\")\n",
    "adresy = regularni_vyraz.findall(posta_string)\n",
    "print(adresy)"
   ]
  }
 ],
 "metadata": {
  "kernelspec": {
   "display_name": "Python 3",
   "language": "python",
   "name": "python3"
  },
  "language_info": {
   "codemirror_mode": {
    "name": "ipython",
    "version": 3
   },
   "file_extension": ".py",
   "mimetype": "text/x-python",
   "name": "python",
   "nbconvert_exporter": "python",
   "pygments_lexer": "ipython3",
   "version": "3.9.10"
  },
  "orig_nbformat": 4,
  "vscode": {
   "interpreter": {
    "hash": "80ef76bd93b7e730eca870de890cb51abc0a4b5f0951fab3076bb9962d1acd20"
   }
  }
 },
 "nbformat": 4,
 "nbformat_minor": 2
}

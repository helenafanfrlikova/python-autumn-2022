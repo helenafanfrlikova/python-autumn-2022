{
 "cells": [
  {
   "cell_type": "code",
   "execution_count": 2,
   "metadata": {},
   "outputs": [
    {
     "name": "stdout",
     "output_type": "stream",
     "text": [
      "V teto dobe je letni kino uzavrene.\n"
     ]
    }
   ],
   "source": [
    "from datetime import datetime\n",
    "\n",
    "datum_zadane = input(\"Zadejte datum, na ktere chcete zakoupit vstupenky, ve formatu den. mesic. rok: \")\n",
    "if \" \" not in datum_zadane:\n",
    "    datum_opravene = datum_zadane.replace(\".\", \". \")\n",
    "    datum = datetime.strptime(datum_opravene, \"%d. %m. %Y\")\n",
    "else:\n",
    "    datum = datetime.strptime(datum_zadane, \"%d. %m. %Y\")\n",
    "\n",
    "zacatek1 = datetime(2021, 7, 1)\n",
    "konec1 = datetime(2021, 8, 10)\n",
    "zacatek2 = datetime(2021, 8, 11)\n",
    "konec2 = datetime(2021, 8, 31)\n",
    "if datum >= zacatek1 and datum <= konec1:\n",
    "    pocet = int(input(\"Zadejte pocet vstupenek: \"))\n",
    "    cena = pocet * 250\n",
    "    print(f\"Celkova cena je: {cena} Kc.\")\n",
    "elif datum >= zacatek2 and datum <= konec2:\n",
    "    pocet = int(input(\"Zadejte pocet vstupenek: \"))\n",
    "    cena = pocet * 180\n",
    "    print(f\"Celkova cena je: {cena} Kc.\")\n",
    "else:\n",
    "    print(\"V teto dobe je letni kino uzavrene.\")"
   ]
  }
 ],
 "metadata": {
  "kernelspec": {
   "display_name": "Python 3.9.10 64-bit",
   "language": "python",
   "name": "python3"
  },
  "language_info": {
   "codemirror_mode": {
    "name": "ipython",
    "version": 3
   },
   "file_extension": ".py",
   "mimetype": "text/x-python",
   "name": "python",
   "nbconvert_exporter": "python",
   "pygments_lexer": "ipython3",
   "version": "3.9.10"
  },
  "orig_nbformat": 4,
  "vscode": {
   "interpreter": {
    "hash": "80ef76bd93b7e730eca870de890cb51abc0a4b5f0951fab3076bb9962d1acd20"
   }
  }
 },
 "nbformat": 4,
 "nbformat_minor": 2
}

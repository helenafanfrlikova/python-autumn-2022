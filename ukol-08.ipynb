{
 "cells": [
  {
   "cell_type": "code",
   "execution_count": 3,
   "metadata": {},
   "outputs": [],
   "source": [
    "import pandas"
   ]
  },
  {
   "cell_type": "code",
   "execution_count": 5,
   "metadata": {},
   "outputs": [
    {
     "name": "stdout",
     "output_type": "stream",
     "text": [
      "<class 'pandas.core.frame.DataFrame'>\n",
      "RangeIndex: 513 entries, 0 to 512\n",
      "Data columns (total 6 columns):\n",
      " #   Column       Non-Null Count  Dtype \n",
      "---  ------       --------------  ----- \n",
      " 0   id           513 non-null    int64 \n",
      " 1   nazev_cz     513 non-null    object\n",
      " 2   nazev_en     513 non-null    object\n",
      " 3   trida_cz     513 non-null    object\n",
      " 4   cena         513 non-null    int64 \n",
      " 5   k_prohlidce  513 non-null    int64 \n",
      "dtypes: int64(3), object(3)\n",
      "memory usage: 24.2+ KB\n"
     ]
    }
   ],
   "source": [
    "adopce = pandas.read_csv(\"adopce-zvirat.csv\", sep=\";\")\n",
    "adopce.info()"
   ]
  },
  {
   "cell_type": "code",
   "execution_count": 16,
   "metadata": {},
   "outputs": [
    {
     "data": {
      "text/plain": [
       "Index(['id', 'nazev_cz', 'nazev_en', 'trida_cz', 'cena', 'k_prohlidce'], dtype='object')"
      ]
     },
     "execution_count": 16,
     "metadata": {},
     "output_type": "execute_result"
    }
   ],
   "source": [
    "adopce.columns"
   ]
  },
  {
   "cell_type": "code",
   "execution_count": 17,
   "metadata": {},
   "outputs": [
    {
     "data": {
      "text/plain": [
       "nazev_cz     Ibis bílý\n",
       "nazev_en    White ibis\n",
       "Name: 34, dtype: object"
      ]
     },
     "execution_count": 17,
     "metadata": {},
     "output_type": "execute_result"
    }
   ],
   "source": [
    "adopce.iloc[34, [1,2]]"
   ]
  },
  {
   "cell_type": "code",
   "execution_count": 18,
   "metadata": {},
   "outputs": [
    {
     "data": {
      "text/plain": [
       "nazev_cz     Ibis bílý\n",
       "nazev_en    White ibis\n",
       "Name: 34, dtype: object"
      ]
     },
     "execution_count": 18,
     "metadata": {},
     "output_type": "execute_result"
    }
   ],
   "source": [
    "adopce.iloc[34,[1,2]]"
   ]
  },
  {
   "cell_type": "code",
   "execution_count": 19,
   "metadata": {},
   "outputs": [
    {
     "data": {
      "text/plain": [
       "Index(['id', 'nazev_en', 'trida_cz', 'cena', 'k_prohlidce'], dtype='object')"
      ]
     },
     "execution_count": 19,
     "metadata": {},
     "output_type": "execute_result"
    }
   ],
   "source": [
    "adopce_bonus = pandas.read_csv(\"adopce-zvirat.csv\", sep=\";\", index_col=\"nazev_cz\")\n",
    "adopce_bonus.columns"
   ]
  },
  {
   "cell_type": "code",
   "execution_count": 20,
   "metadata": {},
   "outputs": [
    {
     "data": {
      "text/plain": [
       "True"
      ]
     },
     "execution_count": 20,
     "metadata": {},
     "output_type": "execute_result"
    }
   ],
   "source": [
    "adopce_bonus.index.is_unique"
   ]
  },
  {
   "cell_type": "code",
   "execution_count": 21,
   "metadata": {},
   "outputs": [],
   "source": [
    "serazeno = adopce_bonus.sort_index()"
   ]
  },
  {
   "cell_type": "code",
   "execution_count": 22,
   "metadata": {},
   "outputs": [
    {
     "data": {
      "text/plain": [
       "id                          749\n",
       "nazev_en       Sunda slow loris\n",
       "trida_cz                  Savci\n",
       "cena                       2000\n",
       "k_prohlidce                   1\n",
       "Name: Outloň váhavý, dtype: object"
      ]
     },
     "execution_count": 22,
     "metadata": {},
     "output_type": "execute_result"
    }
   ],
   "source": [
    "serazeno.loc[\"Outloň váhavý\"]"
   ]
  },
  {
   "cell_type": "code",
   "execution_count": 13,
   "metadata": {},
   "outputs": [
    {
     "data": {
      "text/html": [
       "<div>\n",
       "<style scoped>\n",
       "    .dataframe tbody tr th:only-of-type {\n",
       "        vertical-align: middle;\n",
       "    }\n",
       "\n",
       "    .dataframe tbody tr th {\n",
       "        vertical-align: top;\n",
       "    }\n",
       "\n",
       "    .dataframe thead th {\n",
       "        text-align: right;\n",
       "    }\n",
       "</style>\n",
       "<table border=\"1\" class=\"dataframe\">\n",
       "  <thead>\n",
       "    <tr style=\"text-align: right;\">\n",
       "      <th></th>\n",
       "      <th>id</th>\n",
       "      <th>nazev_en</th>\n",
       "      <th>trida_cz</th>\n",
       "      <th>cena</th>\n",
       "      <th>k_prohlidce</th>\n",
       "    </tr>\n",
       "    <tr>\n",
       "      <th>nazev_cz</th>\n",
       "      <th></th>\n",
       "      <th></th>\n",
       "      <th></th>\n",
       "      <th></th>\n",
       "      <th></th>\n",
       "    </tr>\n",
       "  </thead>\n",
       "  <tbody>\n",
       "    <tr>\n",
       "      <th>Želva Smithova</th>\n",
       "      <td>1117</td>\n",
       "      <td>Brown roof turtle</td>\n",
       "      <td>Plazi</td>\n",
       "      <td>1000</td>\n",
       "      <td>1</td>\n",
       "    </tr>\n",
       "    <tr>\n",
       "      <th>Želva amboinská</th>\n",
       "      <td>479</td>\n",
       "      <td>Malayan box turtle</td>\n",
       "      <td>Plazi</td>\n",
       "      <td>1000</td>\n",
       "      <td>1</td>\n",
       "    </tr>\n",
       "    <tr>\n",
       "      <th>Želva annámská</th>\n",
       "      <td>478</td>\n",
       "      <td>Vietnamese pond turtle</td>\n",
       "      <td>Plazi</td>\n",
       "      <td>1000</td>\n",
       "      <td>1</td>\n",
       "    </tr>\n",
       "    <tr>\n",
       "      <th>Želva bahenní</th>\n",
       "      <td>1115</td>\n",
       "      <td>European pond turtle</td>\n",
       "      <td>Plazi</td>\n",
       "      <td>1000</td>\n",
       "      <td>1</td>\n",
       "    </tr>\n",
       "    <tr>\n",
       "      <th>Želva dlaždicovitá</th>\n",
       "      <td>1338</td>\n",
       "      <td>Impressed tortoise</td>\n",
       "      <td>Plazi</td>\n",
       "      <td>3000</td>\n",
       "      <td>1</td>\n",
       "    </tr>\n",
       "    <tr>\n",
       "      <th>Želva egyptská</th>\n",
       "      <td>980</td>\n",
       "      <td>Egyptian tortoise</td>\n",
       "      <td>Plazi</td>\n",
       "      <td>1000</td>\n",
       "      <td>1</td>\n",
       "    </tr>\n",
       "    <tr>\n",
       "      <th>Želva hvězdnatá</th>\n",
       "      <td>1412</td>\n",
       "      <td></td>\n",
       "      <td>Plazi</td>\n",
       "      <td>1500</td>\n",
       "      <td>1</td>\n",
       "    </tr>\n",
       "    <tr>\n",
       "      <th>Želva korunkatá</th>\n",
       "      <td>1112</td>\n",
       "      <td>Crowned river turtle</td>\n",
       "      <td>Plazi</td>\n",
       "      <td>2000</td>\n",
       "      <td>1</td>\n",
       "    </tr>\n",
       "    <tr>\n",
       "      <th>Želva kubánská</th>\n",
       "      <td>830</td>\n",
       "      <td>North Antillean slider</td>\n",
       "      <td>Plazi</td>\n",
       "      <td>1000</td>\n",
       "      <td>1</td>\n",
       "    </tr>\n",
       "    <tr>\n",
       "      <th>Želva obrovská</th>\n",
       "      <td>40</td>\n",
       "      <td>Aldabra giant tortoise</td>\n",
       "      <td>Plazi</td>\n",
       "      <td>5000</td>\n",
       "      <td>1</td>\n",
       "    </tr>\n",
       "    <tr>\n",
       "      <th>Želva ostnitá</th>\n",
       "      <td>1255</td>\n",
       "      <td>Spiny turtle</td>\n",
       "      <td>Plazi</td>\n",
       "      <td>2000</td>\n",
       "      <td>1</td>\n",
       "    </tr>\n",
       "    <tr>\n",
       "      <th>Želva pardálí</th>\n",
       "      <td>763</td>\n",
       "      <td>Leopard tortoise</td>\n",
       "      <td>Plazi</td>\n",
       "      <td>2000</td>\n",
       "      <td>1</td>\n",
       "    </tr>\n",
       "    <tr>\n",
       "      <th>Želva plochohřbetá</th>\n",
       "      <td>987</td>\n",
       "      <td>Malayan flat-shelled turtle</td>\n",
       "      <td>Plazi</td>\n",
       "      <td>2000</td>\n",
       "      <td>1</td>\n",
       "    </tr>\n",
       "    <tr>\n",
       "      <th>Želva skalní</th>\n",
       "      <td>41</td>\n",
       "      <td>Pancake tortoise</td>\n",
       "      <td>Plazi</td>\n",
       "      <td>1000</td>\n",
       "      <td>1</td>\n",
       "    </tr>\n",
       "    <tr>\n",
       "      <th>Želva sloní</th>\n",
       "      <td>39</td>\n",
       "      <td>Galapagos tortoise</td>\n",
       "      <td>Plazi</td>\n",
       "      <td>5000</td>\n",
       "      <td>1</td>\n",
       "    </tr>\n",
       "    <tr>\n",
       "      <th>Želva stepní (= čtyřprstá)</th>\n",
       "      <td>38</td>\n",
       "      <td>Russian tortoise</td>\n",
       "      <td>Plazi</td>\n",
       "      <td>1500</td>\n",
       "      <td>1</td>\n",
       "    </tr>\n",
       "    <tr>\n",
       "      <th>Želva texaská (= Berlandierova)</th>\n",
       "      <td>1096</td>\n",
       "      <td>Texas tortoise</td>\n",
       "      <td>Plazi</td>\n",
       "      <td>1000</td>\n",
       "      <td>1</td>\n",
       "    </tr>\n",
       "    <tr>\n",
       "      <th>Želva tlustohrdlá</th>\n",
       "      <td>772</td>\n",
       "      <td>Malaysian black mud turtle</td>\n",
       "      <td>Plazi</td>\n",
       "      <td>1000</td>\n",
       "      <td>1</td>\n",
       "    </tr>\n",
       "    <tr>\n",
       "      <th>Želva tuniská</th>\n",
       "      <td>1160</td>\n",
       "      <td>Tunisian spur-thighed tortoise</td>\n",
       "      <td>Plazi</td>\n",
       "      <td>1000</td>\n",
       "      <td>1</td>\n",
       "    </tr>\n",
       "    <tr>\n",
       "      <th>Želva zubatá</th>\n",
       "      <td>771</td>\n",
       "      <td>Asian leaf turtle</td>\n",
       "      <td>Plazi</td>\n",
       "      <td>1000</td>\n",
       "      <td>1</td>\n",
       "    </tr>\n",
       "    <tr>\n",
       "      <th>Želva černavá</th>\n",
       "      <td>673</td>\n",
       "      <td>Giant Asian pond turtle</td>\n",
       "      <td>Plazi</td>\n",
       "      <td>2000</td>\n",
       "      <td>1</td>\n",
       "    </tr>\n",
       "    <tr>\n",
       "      <th>Želva žlutočelá</th>\n",
       "      <td>37</td>\n",
       "      <td>Indochinese box turtle</td>\n",
       "      <td>Plazi</td>\n",
       "      <td>1000</td>\n",
       "      <td>1</td>\n",
       "    </tr>\n",
       "  </tbody>\n",
       "</table>\n",
       "</div>"
      ],
      "text/plain": [
       "                                   id                        nazev_en  \\\n",
       "nazev_cz                                                                \n",
       "Želva Smithova                   1117               Brown roof turtle   \n",
       "Želva amboinská                   479              Malayan box turtle   \n",
       "Želva annámská                    478          Vietnamese pond turtle   \n",
       "Želva bahenní                    1115            European pond turtle   \n",
       "Želva dlaždicovitá               1338              Impressed tortoise   \n",
       "Želva egyptská                    980               Egyptian tortoise   \n",
       "Želva hvězdnatá                  1412                                   \n",
       "Želva korunkatá                  1112            Crowned river turtle   \n",
       "Želva kubánská                    830          North Antillean slider   \n",
       "Želva obrovská                     40          Aldabra giant tortoise   \n",
       "Želva ostnitá                    1255                    Spiny turtle   \n",
       "Želva pardálí                     763                Leopard tortoise   \n",
       "Želva plochohřbetá                987     Malayan flat-shelled turtle   \n",
       "Želva skalní                       41                Pancake tortoise   \n",
       "Želva sloní                        39              Galapagos tortoise   \n",
       "Želva stepní (= čtyřprstá)         38                Russian tortoise   \n",
       "Želva texaská (= Berlandierova)  1096                  Texas tortoise   \n",
       "Želva tlustohrdlá                 772      Malaysian black mud turtle   \n",
       "Želva tuniská                    1160  Tunisian spur-thighed tortoise   \n",
       "Želva zubatá                      771               Asian leaf turtle   \n",
       "Želva černavá                     673         Giant Asian pond turtle   \n",
       "Želva žlutočelá                    37          Indochinese box turtle   \n",
       "\n",
       "                                trida_cz  cena  k_prohlidce  \n",
       "nazev_cz                                                     \n",
       "Želva Smithova                     Plazi  1000            1  \n",
       "Želva amboinská                    Plazi  1000            1  \n",
       "Želva annámská                     Plazi  1000            1  \n",
       "Želva bahenní                      Plazi  1000            1  \n",
       "Želva dlaždicovitá                 Plazi  3000            1  \n",
       "Želva egyptská                     Plazi  1000            1  \n",
       "Želva hvězdnatá                    Plazi  1500            1  \n",
       "Želva korunkatá                    Plazi  2000            1  \n",
       "Želva kubánská                     Plazi  1000            1  \n",
       "Želva obrovská                     Plazi  5000            1  \n",
       "Želva ostnitá                      Plazi  2000            1  \n",
       "Želva pardálí                      Plazi  2000            1  \n",
       "Želva plochohřbetá                 Plazi  2000            1  \n",
       "Želva skalní                       Plazi  1000            1  \n",
       "Želva sloní                        Plazi  5000            1  \n",
       "Želva stepní (= čtyřprstá)         Plazi  1500            1  \n",
       "Želva texaská (= Berlandierova)    Plazi  1000            1  \n",
       "Želva tlustohrdlá                  Plazi  1000            1  \n",
       "Želva tuniská                      Plazi  1000            1  \n",
       "Želva zubatá                       Plazi  1000            1  \n",
       "Želva černavá                      Plazi  2000            1  \n",
       "Želva žlutočelá                    Plazi  1000            1  "
      ]
     },
     "execution_count": 13,
     "metadata": {},
     "output_type": "execute_result"
    }
   ],
   "source": [
    "serazeno.loc[\"Želva Smithova\":\"Želva žlutočelá\"]"
   ]
  }
 ],
 "metadata": {
  "kernelspec": {
   "display_name": "Python 3.9.10 64-bit",
   "language": "python",
   "name": "python3"
  },
  "language_info": {
   "codemirror_mode": {
    "name": "ipython",
    "version": 3
   },
   "file_extension": ".py",
   "mimetype": "text/x-python",
   "name": "python",
   "nbconvert_exporter": "python",
   "pygments_lexer": "ipython3",
   "version": "3.9.10"
  },
  "orig_nbformat": 4,
  "vscode": {
   "interpreter": {
    "hash": "80ef76bd93b7e730eca870de890cb51abc0a4b5f0951fab3076bb9962d1acd20"
   }
  }
 },
 "nbformat": 4,
 "nbformat_minor": 2
}
